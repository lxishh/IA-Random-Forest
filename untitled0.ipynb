{
  "nbformat": 4,
  "nbformat_minor": 0,
  "metadata": {
    "colab": {
      "provenance": [],
      "authorship_tag": "ABX9TyNSTFvpBIzTmvjADNiu+3iF",
      "include_colab_link": true
    },
    "kernelspec": {
      "name": "python3",
      "display_name": "Python 3"
    },
    "language_info": {
      "name": "python"
    }
  },
  "cells": [
    {
      "cell_type": "markdown",
      "metadata": {
        "id": "view-in-github",
        "colab_type": "text"
      },
      "source": [
        "<a href=\"https://colab.research.google.com/github/lxishh/IA-Random-Forest/blob/main/untitled0.ipynb\" target=\"_parent\"><img src=\"https://colab.research.google.com/assets/colab-badge.svg\" alt=\"Open In Colab\"/></a>"
      ]
    },
    {
      "cell_type": "code",
      "source": [
        "import pandas as pd\n",
        "import numpy as np\n",
        "from sklearn.model_selection import train_test_split\n",
        "from sklearn.ensemble import RandomForestClassifier\n",
        "from sklearn.metrics import classification_report, confusion_matrix\n",
        "import seaborn as sns\n",
        "import matplotlib.pyplot as plt\n",
        "\n",
        "# Paso 1: Cargar el conjunto de datos de Titanic\n",
        "data = pd.read_csv('/content/train.csv')\n",
        "\n",
        "\n",
        "# Paso 2: Preprocesamiento de los datos\n",
        "\n",
        "# Seleccionar las columnas relevantes\n",
        "data = data[['Pclass', 'Sex', 'Age', 'SibSp', 'Parch', 'Fare', 'Embarked', 'Survived']]\n",
        "\n",
        "# Convertir 'Sex' a valores numéricos: male = 0, female = 1\n",
        "data['Sex'] = data['Sex'].map({'male': 0, 'female': 1})\n",
        "\n",
        "# Convertir 'Embarked' a valores numéricos: C = 0, Q = 1, S = 2\n",
        "data['Embarked'] = data['Embarked'].map({'C': 0, 'Q': 1, 'S': 2})\n",
        "\n",
        "# Rellenar los valores nulos en 'Age' con la mediana\n",
        "data['Age'] = data['Age'].fillna(data['Age'].median())\n",
        "\n",
        "# Eliminar las filas con valores nulos en 'Embarked' (puedes usar otros métodos si lo prefieres)\n",
        "data.dropna(subset=['Embarked'], inplace=True)\n",
        "\n",
        "\n",
        "# Paso 3: Separar las características y la variable objetivo\n",
        "X = data.drop('Survived', axis=1)\n",
        "y = data['Survived']\n",
        "\n",
        "\n",
        "# Paso 4: Dividir los datos en conjuntos de entrenamiento y prueba\n",
        "X_train, X_test, y_train, y_test = train_test_split(X, y, test_size=0.2, random_state=42)\n",
        "\n",
        "\n",
        "# Paso 5: Inicializar y entrenar el clasificador\n",
        "model = RandomForestClassifier(n_estimators=100, random_state=42)\n",
        "model.fit(X_train, y_train)\n",
        "\n",
        "\n",
        "# Paso 6: Hacer predicciones\n",
        "y_pred = model.predict(X_test)\n",
        "\n",
        "\n",
        "# Paso 7: Generar un reporte de clasificación\n",
        "report = classification_report(y_test, y_pred, target_names=['No Sobrevive', 'Sobrevive'])\n",
        "#Imprimimos pero en español\n",
        "print(report.replace(\"precision\", \"Precisión\")\n",
        "              .replace(\"recall\", \"Sensibilidad\")\n",
        "              .replace(\"f1-score\", \"Puntuación F1\")\n",
        "              .replace(\"support\", \"Soporte\")\n",
        "              .replace(\"accuracy\", \"Exactitud\"))\n",
        "\n",
        "# Paso 8: Generar la matriz de confusión\n",
        "conf_matrix = confusion_matrix(y_test, y_pred)\n",
        "\n",
        "# Visualizar la matriz de confusión\n",
        "plt.figure(figsize=(10, 7))\n",
        "sns.heatmap(conf_matrix, annot=True, fmt='d', cmap='Blues', xticklabels=model.classes_, yticklabels=model.classes_)\n",
        "plt.ylabel('Actual')\n",
        "plt.xlabel('Predicho')\n",
        "plt.title('Matriz de Confusión')\n",
        "plt.show()\n",
        "\n",
        "\n",
        "# Paso 9: Realizar una predicción con un nuevo dato (ejemplo de pasajero)\n",
        "nuevo_dato = pd.DataFrame({\n",
        "    'Pclass': [3],\n",
        "    'Sex': [0],  # Hombre\n",
        "    'Age': [22],\n",
        "    'SibSp': [1],\n",
        "    'Parch': [0],\n",
        "    'Fare': [7.25],\n",
        "    'Embarked': [2]  # S (Southampton)\n",
        "})\n",
        "\n",
        "# Hacer la predicción\n",
        "prediccion = model.predict(nuevo_dato)\n",
        "\n",
        "# Mostrar resultado\n",
        "resultado = \"Sobrevive\" if prediccion[0] == 1 else \"No Sobrevive\"\n",
        "print(\"El nuevo dato indica:\", resultado)\n"
      ],
      "metadata": {
        "colab": {
          "base_uri": "https://localhost:8080/",
          "height": 815
        },
        "id": "RDGen-OM0kPo",
        "outputId": "5ba189af-0f98-4589-8713-3e4270f58cc9"
      },
      "execution_count": null,
      "outputs": [
        {
          "output_type": "stream",
          "name": "stdout",
          "text": [
            "              Precisión    Sensibilidad  Puntuación F1   Soporte\n",
            "\n",
            "No Sobrevive       0.83      0.81      0.82       109\n",
            "   Sobrevive       0.71      0.74      0.72        69\n",
            "\n",
            "    Exactitud                           0.78       178\n",
            "   macro avg       0.77      0.77      0.77       178\n",
            "weighted avg       0.78      0.78      0.78       178\n",
            "\n"
          ]
        },
        {
          "output_type": "display_data",
          "data": {
            "text/plain": [
              "<Figure size 1000x700 with 2 Axes>"
            ],
            "image/png": "[encoded data removed]"
          },
          "metadata": {}
        },
        {
          "output_type": "stream",
          "name": "stdout",
          "text": [
            "El nuevo dato indica: No Sobrevive\n"
          ]
        }
      ]
    }
  ]
}